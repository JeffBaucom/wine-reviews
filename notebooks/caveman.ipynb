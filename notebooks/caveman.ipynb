{
 "cells": [
  {
   "cell_type": "code",
   "execution_count": 63,
   "metadata": {},
   "outputs": [],
   "source": [
    "from sklearn.feature_extraction.text import TfidfVectorizer\n",
    "import numpy as np\n",
    "import pandas as pd\n",
    "import string\n",
    "from nltk.tokenize import sent_tokenize, word_tokenize\n",
    "from nltk.stem import WordNetLemmatizer\n",
    "import nltk.tag as tag\n",
    "stopArr =  [ \"a\", \"about\", \"above\", \"after\", \"again\", \"against\", \"all\", \"am\", \"an\", \"and\", \"any\", \"are\", \"as\", \"at\", \"be\", \"because\", \"been\", \"before\", \"being\", \"below\", \"between\", \"both\", \"but\", \"by\", \"could\", \"did\", \"do\", \"does\", \"doing\", \"down\", \"during\", \"each\", \"few\", \"for\", \"from\", \"further\", \"had\", \"has\", \"have\", \"having\", \"he\", \"he'd\", \"he'll\", \"he's\", \"her\", \"here\", \"here's\", \"hers\", \"herself\", \"him\", \"himself\", \"his\", \"how\", \"how's\", \"i\", \"i'd\", \"i'll\", \"i'm\", \"i've\", \"if\", \"in\", \"into\", \"is\", \"it\", \"it's\", \"its\", \"itself\", \"let's\", \"me\", \"more\", \"most\", \"my\", \"myself\", \"nor\", \"of\", \"on\", \"once\", \"only\", \"or\", \"other\", \"ought\", \"our\", \"ours\", \"ourselves\", \"out\", \"over\", \"own\", \"same\", \"she\", \"she'd\", \"she'll\", \"she's\", \"should\", \"so\", \"some\", \"such\", \"than\", \"that\", \"that's\", \"the\", \"their\", \"theirs\", \"them\", \"themselves\", \"then\", \"there\", \"there's\", \"these\", \"they\", \"they'd\", \"they'll\", \"they're\", \"they've\", \"this\", \"those\", \"through\", \"to\", \"too\", \"under\", \"until\", \"up\", \"very\", \"was\", \"we\", \"we'd\", \"we'll\", \"we're\", \"we've\", \"were\", \"what\", \"what's\", \"when\", \"when's\", \"where\", \"where's\", \"which\", \"while\", \"who\", \"who's\", \"whom\", \"why\", \"why's\", \"with\", \"would\", \"you\", \"you'd\", \"you'll\", \"you're\", \"you've\", \"your\", \"yours\", \"yourself\", \"yourselves\" ]\n",
    "stoplist = ' '.join(map(str, stopArr))\n"
   ]
  },
  {
   "cell_type": "code",
   "execution_count": 64,
   "metadata": {},
   "outputs": [],
   "source": [
    "data = pd.read_csv('raw/raw_wine_data.csv', sep=',', encoding='utf-8')\n",
    "lemmatizer = WordNetLemmatizer\n",
    "translator = str.maketrans('', '', string.punctuation)\n",
    "\n",
    "def toke_lemmatize(text):\n",
    "    text = text.translate(translator)\n",
    "    review = sent_tokenize(text.lower())\n",
    "    out = []\n",
    "    for sent in review:\n",
    "        new_sent = []\n",
    "        for word in tag.pos_tag(word_tokenize(sent)):\n",
    "            if word[0] not in stoplist:\n",
    "                new_sent.append(lemmatizer.lemmatize(word[1], word[0].lower()))\n",
    "        if len(new_sent) > 0:\n",
    "            out.append(new_sent)\n",
    "    return out\n",
    "\n",
    "data['description_tokes'] = data['description'].apply(toke_lemmatize)\n",
    "        \n"
   ]
  },
  {
   "cell_type": "code",
   "execution_count": 65,
   "metadata": {},
   "outputs": [
    {
     "name": "stdout",
     "output_type": "stream",
     "text": [
      "[['aroma', 'include', 'tropical', 'fruit', 'broom', 'brimstone', 'dried', 'herb', 'palate', 'isnt', 'overly', 'expressive', 'offering', 'unripened', 'apple', 'citrus', 'dried', 'sage', 'alongside', 'brisk', 'acidity'], ['ripe', 'fruity', 'wine', 'smooth', 'still', 'structured', 'firm', 'tannin', 'filled', 'juicy', 'red', 'berry', 'fruit', 'freshened', 'acidity', 'already', 'drinkable', 'although', 'will', 'certainly', 'better', '2016'], ['tart', 'snappy', 'flavor', 'lime', 'flesh', 'rind', 'dominate', 'green', 'pineapple', 'poke', 'crisp', 'acidity', 'underscoring', 'flavor', 'wine', 'stainlesssteel', 'fermented']]\n"
     ]
    }
   ],
   "source": [
    "#data['description_tokes'][1]\n",
    "from gensim.models import word2vec\n",
    "sents = data['description_tokes'][0] + data['description_tokes'][1]\n",
    "sents = sents + data['description_tokes'][2]\n",
    "print(sents)\n",
    "model = word2vec.Word2Vec(sents, min_count=1)"
   ]
  },
  {
   "cell_type": "code",
   "execution_count": 66,
   "metadata": {},
   "outputs": [
    {
     "data": {
      "text/plain": [
       "array([-0.00064328,  0.00162278,  0.00050203, -0.00379042,  0.00380883,\n",
       "        0.00093291,  0.00307916, -0.00250104,  0.0045898 , -0.00442634,\n",
       "       -0.00284964, -0.00052484, -0.0010971 ,  0.00388129, -0.00380152,\n",
       "       -0.00442627, -0.00139145,  0.00240558,  0.00214937, -0.00349713,\n",
       "       -0.00241327,  0.00381354,  0.00429239, -0.0032606 ,  0.00301807,\n",
       "       -0.0045307 , -0.00285822,  0.00183856, -0.00404101, -0.00247721,\n",
       "        0.00306052, -0.00128167,  0.00303115, -0.00180703, -0.00246256,\n",
       "        0.00462736, -0.0034478 ,  0.00407259,  0.00295316, -0.00089142,\n",
       "       -0.00015434,  0.00059003, -0.00081803, -0.0041925 , -0.00463977,\n",
       "        0.00307356, -0.00347531,  0.00235274,  0.00132525, -0.00183152,\n",
       "        0.00423485,  0.00436822, -0.00259347, -0.00441772,  0.00034152,\n",
       "        0.00121785,  0.00196516,  0.0007032 ,  0.00397665,  0.00462018,\n",
       "        0.00101342,  0.00012701,  0.00134738, -0.00251818, -0.00280715,\n",
       "        0.00269447,  0.00357827, -0.0010121 , -0.00236201,  0.00455456,\n",
       "       -0.00180054, -0.00197011, -0.00160024, -0.00278291,  0.00372135,\n",
       "       -0.00244583,  0.00368635, -0.00224869, -0.00427934, -0.00170647,\n",
       "        0.00473913,  0.00133332,  0.00064505,  0.00411814,  0.00060053,\n",
       "        0.00141099,  0.00058054, -0.00411525, -0.00070546, -0.00078685,\n",
       "        0.00331614,  0.00177069,  0.00373472, -0.00197688, -0.00217855,\n",
       "       -0.00422947, -0.00281176,  0.00201518, -0.00411121, -0.00374875],\n",
       "      dtype=float32)"
      ]
     },
     "execution_count": 66,
     "metadata": {},
     "output_type": "execute_result"
    }
   ],
   "source": [
    "model.wv['tropical']"
   ]
  },
  {
   "cell_type": "code",
   "execution_count": null,
   "metadata": {},
   "outputs": [],
   "source": []
  }
 ],
 "metadata": {
  "kernelspec": {
   "display_name": "Python 3",
   "language": "python",
   "name": "python3"
  },
  "language_info": {
   "codemirror_mode": {
    "name": "ipython",
    "version": 3
   },
   "file_extension": ".py",
   "mimetype": "text/x-python",
   "name": "python",
   "nbconvert_exporter": "python",
   "pygments_lexer": "ipython3",
   "version": "3.6.4"
  }
 },
 "nbformat": 4,
 "nbformat_minor": 2
}
