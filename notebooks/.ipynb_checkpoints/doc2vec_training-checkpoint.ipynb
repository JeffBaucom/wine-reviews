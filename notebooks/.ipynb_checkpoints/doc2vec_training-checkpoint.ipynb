{
 "cells": [
  {
   "cell_type": "code",
   "execution_count": null,
   "metadata": {},
   "outputs": [],
   "source": [
    "# from gensim.models.doc2vec import Doc2Vec, TaggedDocument, Doc2VecVocab, LabeledSentence\n",
    "from gensim.utils import simple_preprocess\n",
    "import numpy as np\n",
    "import pandas as pd\n",
    "import string\n"
   ]
  },
  {
   "cell_type": "code",
   "execution_count": 115,
   "metadata": {},
   "outputs": [],
   "source": [
    "data = pd.read_pickle('data/caveman_pickle')\n",
    "raw = pd.read_csv('raw/raw_wine_data.csv', sep=',', encoding='utf-8')\n",
    "titles = raw['title'].tolist()\n",
    "docs = data['description'].tolist() #pass this list to TaggedWine class\n",
    "class TaggedWineDocument(object):\n",
    "    def __init__(self, tokes, titles):\n",
    "        self.tokes = tokes\n",
    "        self.titles = titles\n",
    "    \n",
    "    def __iter__(self):\n",
    "        for idx, wine in enumerate(self.tokes):\n",
    "            yield TaggedDocument(simple_preprocess(wine), [self.titles[idx]])\n",
    "            \n"
   ]
  },
  {
   "cell_type": "code",
   "execution_count": 116,
   "metadata": {},
   "outputs": [],
   "source": [
    "documents = TaggedWineDocument(docs, titles)\n",
    "# print(documents[0] + documents[1])\n",
    "model = Doc2Vec(vector_size=50, window=8, min_count=3, workers=4)\n"
   ]
  },
  {
   "cell_type": "code",
   "execution_count": 117,
   "metadata": {},
   "outputs": [],
   "source": [
    "# print(list(documents)[0])\n",
    "#print(str(titles[0]))\n",
    "model.build_vocab(documents)"
   ]
  },
  {
   "cell_type": "code",
   "execution_count": 118,
   "metadata": {},
   "outputs": [],
   "source": [
    "#model.build_vocab(titles[0])\n",
    "model.train(documents, total_examples=model.corpus_count, epochs=model.epochs)"
   ]
  },
  {
   "cell_type": "code",
   "execution_count": 119,
   "metadata": {},
   "outputs": [
    {
     "name": "stderr",
     "output_type": "stream",
     "text": [
      "/Users/ABUNAI/Documents/Development/environments/wine3/lib/python3.6/site-packages/ipykernel_launcher.py:1: DeprecationWarning: Call to deprecated `most_similar` (Method will be removed in 4.0.0, use self.wv.most_similar() instead).\n",
      "  \"\"\"Entry point for launching an IPython kernel.\n"
     ]
    },
    {
     "data": {
      "text/plain": [
       "[('scents', 0.9270760416984558),\n",
       " ('notes', 0.8064098954200745),\n",
       " ('whiffs', 0.7415457963943481),\n",
       " ('tones', 0.700953483581543),\n",
       " ('fragrances', 0.6794447898864746),\n",
       " ('bouquet', 0.6672437191009521),\n",
       " ('accents', 0.6548725366592407),\n",
       " ('overtones', 0.6537157297134399),\n",
       " ('flavors', 0.641753077507019),\n",
       " ('whiff', 0.6272807121276855)]"
      ]
     },
     "execution_count": 119,
     "metadata": {},
     "output_type": "execute_result"
    }
   ],
   "source": [
    "model.most_similar('aromas')"
   ]
  },
  {
   "cell_type": "code",
   "execution_count": 120,
   "metadata": {},
   "outputs": [],
   "source": [
    "doc_list = list(documents)\n"
   ]
  },
  {
   "cell_type": "code",
   "execution_count": 121,
   "metadata": {},
   "outputs": [
    {
     "name": "stdout",
     "output_type": "stream",
     "text": [
      "Doc2Vec(dm/m,d50,n5,w8,mc3,s0.001,t4)\n",
      "TaggedDocument(['aromas', 'include', 'tropical', 'fruit', 'broom', 'brimstone', 'and', 'dried', 'herb', 'the', 'palate', 'isn', 'overly', 'expressive', 'offering', 'unripened', 'apple', 'citrus', 'and', 'dried', 'sage', 'alongside', 'brisk', 'acidity'], ['Nicosia 2013 Vulkà Bianco  (Etna)'])\n"
     ]
    },
    {
     "data": {
      "text/plain": [
       "[('Thomas Fogarty 2007 Langley Hill Chardonnay (Santa Cruz Mountains)',\n",
       "  0.5802639722824097),\n",
       " ('Degani 2009  Amarone della Valpolicella Classico', 0.5762701630592346),\n",
       " ('Cottini 2005  Amarone della Valpolicella Classico', 0.5695151090621948),\n",
       " ('Le Bertarole 2005 Podere Cariano  (Amarone della Valpolicella Classico)',\n",
       "  0.5692226886749268),\n",
       " ('La Spinetta 2012 Vigneto Bordini  (Barbaresco)', 0.5639689564704895)]"
      ]
     },
     "execution_count": 121,
     "metadata": {},
     "output_type": "execute_result"
    }
   ],
   "source": [
    "inferred_vector = model.infer_vector(doc_list[0].words)\n",
    "print(model)\n",
    "print(doc_list[0])\n",
    "model.docvecs.most_similar(positive=[titles[0]], topn=5)"
   ]
  },
  {
   "cell_type": "code",
   "execution_count": null,
   "metadata": {},
   "outputs": [],
   "source": []
  }
 ],
 "metadata": {
  "kernelspec": {
   "display_name": "Python 3",
   "language": "python",
   "name": "python3"
  },
  "language_info": {
   "codemirror_mode": {
    "name": "ipython",
    "version": 3
   },
   "file_extension": ".py",
   "mimetype": "text/x-python",
   "name": "python",
   "nbconvert_exporter": "python",
   "pygments_lexer": "ipython3",
   "version": "3.6.4"
  }
 },
 "nbformat": 4,
 "nbformat_minor": 2
}
