{
 "cells": [
  {
   "cell_type": "code",
   "execution_count": 9,
   "metadata": {},
   "outputs": [],
   "source": [
    "from sklearn.feature_extraction.text import TfidfVectorizer\n",
    "import numpy as np\n",
    "import pandas as pd\n",
    "from nltk.tokenize import sent_tokenize, word_tokenize, WhitespaceTokenizer\n",
    "from nltk.stem import WordNetLemmatizer\n",
    "\n",
    "tokenize = WhitespaceTokenizer()"
   ]
  },
  {
   "cell_type": "code",
   "execution_count": 11,
   "metadata": {},
   "outputs": [
    {
     "ename": "TypeError",
     "evalue": "tokenize() missing 1 required positional argument: 'text'",
     "output_type": "error",
     "traceback": [
      "\u001b[0;31m---------------------------------------------------------------------------\u001b[0m",
      "\u001b[0;31mTypeError\u001b[0m                                 Traceback (most recent call last)",
      "\u001b[0;32m<ipython-input-11-99c90796ab97>\u001b[0m in \u001b[0;36m<module>\u001b[0;34m()\u001b[0m\n\u001b[1;32m      1\u001b[0m \u001b[0mdata\u001b[0m \u001b[0;34m=\u001b[0m \u001b[0mpd\u001b[0m\u001b[0;34m.\u001b[0m\u001b[0mread_csv\u001b[0m\u001b[0;34m(\u001b[0m\u001b[0;34m'raw/raw_wine_data.csv'\u001b[0m\u001b[0;34m,\u001b[0m \u001b[0msep\u001b[0m\u001b[0;34m=\u001b[0m\u001b[0;34m','\u001b[0m\u001b[0;34m,\u001b[0m \u001b[0mencoding\u001b[0m\u001b[0;34m=\u001b[0m\u001b[0;34m'utf-8'\u001b[0m\u001b[0;34m)\u001b[0m\u001b[0;34m\u001b[0m\u001b[0m\n\u001b[0;32m----> 2\u001b[0;31m \u001b[0mdata\u001b[0m\u001b[0;34m[\u001b[0m\u001b[0;34m'description_tokes'\u001b[0m\u001b[0;34m]\u001b[0m \u001b[0;34m=\u001b[0m \u001b[0mdata\u001b[0m\u001b[0;34m[\u001b[0m\u001b[0;34m'description'\u001b[0m\u001b[0;34m]\u001b[0m\u001b[0;34m.\u001b[0m\u001b[0mapply\u001b[0m\u001b[0;34m(\u001b[0m\u001b[0mtokenize\u001b[0m\u001b[0;34m.\u001b[0m\u001b[0mtokenize\u001b[0m\u001b[0;34m(\u001b[0m\u001b[0;34m)\u001b[0m\u001b[0;34m)\u001b[0m\u001b[0;34m\u001b[0m\u001b[0m\n\u001b[0m",
      "\u001b[0;31mTypeError\u001b[0m: tokenize() missing 1 required positional argument: 'text'"
     ]
    }
   ],
   "source": [
    "data = pd.read_csv('raw/raw_wine_data.csv', sep=',', encoding='utf-8')\n",
    "data['description_tokes']\n"
   ]
  },
  {
   "cell_type": "code",
   "execution_count": 5,
   "metadata": {},
   "outputs": [
    {
     "name": "stdout",
     "output_type": "stream",
     "text": [
      "0         [Aromas, include, tropical, fruit, ,, broom, ,...\n",
      "1         [This, is, ripe, and, fruity, ,, a, wine, that...\n",
      "2         [Tart, and, snappy, ,, the, flavors, of, lime,...\n",
      "3         [Pineapple, rind, ,, lemon, pith, and, orange,...\n",
      "4         [Much, like, the, regular, bottling, from, 201...\n",
      "5         [Blackberry, and, raspberry, aromas, show, a, ...\n",
      "6         [Here, 's, a, bright, ,, informal, red, that, ...\n",
      "7         [This, dry, and, restrained, wine, offers, spi...\n",
      "8         [Savory, dried, thyme, notes, accent, sunnier,...\n",
      "9         [This, has, great, depth, of, flavor, with, it...\n",
      "10        [Soft, ,, supple, plum, envelopes, an, oaky, s...\n",
      "11        [This, is, a, dry, wine, ,, very, spicy, ,, wi...\n",
      "12        [Slightly, reduced, ,, this, wine, offers, a, ...\n",
      "13        [This, is, dominated, by, oak, and, oak-driven...\n",
      "14        [Building, on, 150, years, and, six, generatio...\n",
      "15        [Zesty, orange, peels, and, apple, notes, abou...\n",
      "16        [Baked, plum, ,, molasses, ,, balsamic, vinega...\n",
      "17        [Raw, black-cherry, aromas, are, direct, and, ...\n",
      "18        [Desiccated, blackberry, ,, leather, ,, charre...\n",
      "19        [Red, fruit, aromas, pervade, on, the, nose, ,...\n",
      "20        [Ripe, aromas, of, dark, berries, mingle, with...\n",
      "21        [A, sleek, mix, of, tart, berry, ,, stem, and,...\n",
      "22        [Delicate, aromas, recall, white, flower, and,...\n",
      "23        [This, wine, from, the, Geneseo, district, off...\n",
      "24        [Aromas, of, prune, ,, blackcurrant, ,, toast,...\n",
      "25        [Oak, and, earth, intermingle, around, robust,...\n",
      "26        [Pretty, aromas, of, yellow, flower, and, ston...\n",
      "27        [Aromas, recall, ripe, dark, berry, ,, toast, ...\n",
      "28        [Aromas, suggest, mature, berry, ,, scorched, ...\n",
      "29        [Clarksburg, is, becoming, a, haven, for, Chen...\n",
      "                                ...                        \n",
      "129941    [A, Chardonnay, with, an, unusual, companion, ...\n",
      "129942    [This, is, classic, in, herbaceous, aromas, an...\n",
      "129943    [A, blend, of, Nero, d'Avola, and, Syrah, ,, t...\n",
      "129944    [Deep, garnet, in, the, glass, ,, this, has, a...\n",
      "129945    [Hailing, from, one, of, the, more, popular, v...\n",
      "129946    [Plump, ,, clingy, peach, and, honey, notes, a...\n",
      "129947    [A, blend, of, 65, %, Cabernet, Sauvignon, ,, ...\n",
      "129948    [Raspberry, and, cassis, aromas, are, fresh, a...\n",
      "129949    [There, 's, no, bones, about, the, use, of, oa...\n",
      "129950    [This, opens, with, herbaceous, dollops, of, t...\n",
      "129951    [Hugely, spicy, this, rich, wine, is, describe...\n",
      "129952    [This, Zinfandel, from, the, eastern, section,...\n",
      "129953    [Roughly, two-thirds, Cabernet, and, one-third...\n",
      "129954    [One, of, the, more, characterful, Pinot, Gris...\n",
      "129955    [Like, Dog, Point, 's, 2011, Chardonnay, ,, th...\n",
      "129956    [The, blend, is, 44, %, Merlot, ,, 33, %, Cabe...\n",
      "129957    [Lightly, baked, berry, aromas, vie, for, atte...\n",
      "129958    [This, blend, of, Cabernet, Sauvignon-Merlot, ...\n",
      "129959    [The, granite, soil, of, the, Brand, Grand, Cr...\n",
      "129960    [Fresh, and, fruity, ,, this, is, full, of, re...\n",
      "129961    [Intense, aromas, of, wild, cherry, ,, baking,...\n",
      "129962    [Blackberry, ,, cassis, ,, grilled, herb, and,...\n",
      "129963    [A, bouquet, of, black, cherry, ,, tart, cranb...\n",
      "129964    [Initially, quite, muted, ,, this, wine, slowl...\n",
      "129965    [While, it, 's, rich, ,, this, beautiful, dry,...\n",
      "129966    [Notes, of, honeysuckle, and, cantaloupe, swee...\n",
      "129967    [Citation, is, given, as, much, as, a, decade,...\n",
      "129968    [Well-drained, gravel, soil, gives, this, wine...\n",
      "129969    [A, dry, style, of, Pinot, Gris, ,, this, is, ...\n",
      "129970    [Big, ,, rich, and, off-dry, ,, this, is, powe...\n",
      "Name: description_tokes, Length: 129971, dtype: object\n"
     ]
    }
   ],
   "source": [
    "print(data['description_tokes'])"
   ]
  },
  {
   "cell_type": "code",
   "execution_count": null,
   "metadata": {},
   "outputs": [],
   "source": []
  }
 ],
 "metadata": {
  "kernelspec": {
   "display_name": "Python 3",
   "language": "python",
   "name": "python3"
  },
  "language_info": {
   "codemirror_mode": {
    "name": "ipython",
    "version": 3
   },
   "file_extension": ".py",
   "mimetype": "text/x-python",
   "name": "python",
   "nbconvert_exporter": "python",
   "pygments_lexer": "ipython3",
   "version": "3.6.4"
  }
 },
 "nbformat": 4,
 "nbformat_minor": 2
}
